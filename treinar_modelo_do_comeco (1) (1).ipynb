{
  "cells": [
    {
      "cell_type": "code",
      "execution_count": 1,
      "metadata": {
        "id": "Xj2IpB8f6HAp",
        "colab": {
          "base_uri": "https://localhost:8080/"
        },
        "outputId": "749ff801-cc45-4399-ccdf-2a2f9cc1cb63"
      },
      "outputs": [
        {
          "output_type": "stream",
          "name": "stdout",
          "text": [
            "Mounted at /content/drive\n"
          ]
        }
      ],
      "source": [
        "from google.colab import drive\n",
        "drive.mount('/content/drive')\n",
        "\n",
        "import os\n",
        "os.chdir('/content/drive/My Drive/AI4SmallFarms')"
      ]
    },
    {
      "cell_type": "code",
      "execution_count": null,
      "metadata": {
        "colab": {
          "base_uri": "https://localhost:8080/"
        },
        "id": "AHTHUCUI7WKh",
        "outputId": "cff7a602-7803-466c-9a1c-9daaad553b27"
      },
      "outputs": [
        {
          "output_type": "stream",
          "name": "stdout",
          "text": [
            "Collecting keras_unet\n",
            "  Downloading keras_unet-0.1.2-py3-none-any.whl (16 kB)\n",
            "Installing collected packages: keras_unet\n",
            "Successfully installed keras_unet-0.1.2\n",
            "Collecting rasterio\n",
            "  Downloading rasterio-1.3.10-cp310-cp310-manylinux2014_x86_64.whl (21.5 MB)\n",
            "\u001b[2K     \u001b[90m━━━━━━━━━━━━━━━━━━━━━━━━━━━━━━━━━━━━━━━━\u001b[0m \u001b[32m21.5/21.5 MB\u001b[0m \u001b[31m63.1 MB/s\u001b[0m eta \u001b[36m0:00:00\u001b[0m\n",
            "\u001b[?25hCollecting affine (from rasterio)\n",
            "  Downloading affine-2.4.0-py3-none-any.whl (15 kB)\n",
            "Requirement already satisfied: attrs in /usr/local/lib/python3.10/dist-packages (from rasterio) (23.2.0)\n",
            "Requirement already satisfied: certifi in /usr/local/lib/python3.10/dist-packages (from rasterio) (2024.2.2)\n",
            "Requirement already satisfied: click>=4.0 in /usr/local/lib/python3.10/dist-packages (from rasterio) (8.1.7)\n",
            "Requirement already satisfied: cligj>=0.5 in /usr/local/lib/python3.10/dist-packages (from rasterio) (0.7.2)\n",
            "Requirement already satisfied: numpy in /usr/local/lib/python3.10/dist-packages (from rasterio) (1.25.2)\n",
            "Collecting snuggs>=1.4.1 (from rasterio)\n",
            "  Downloading snuggs-1.4.7-py3-none-any.whl (5.4 kB)\n",
            "Requirement already satisfied: click-plugins in /usr/local/lib/python3.10/dist-packages (from rasterio) (1.1.1)\n",
            "Requirement already satisfied: setuptools in /usr/local/lib/python3.10/dist-packages (from rasterio) (67.7.2)\n",
            "Requirement already satisfied: pyparsing>=2.1.6 in /usr/local/lib/python3.10/dist-packages (from snuggs>=1.4.1->rasterio) (3.1.2)\n",
            "Installing collected packages: snuggs, affine, rasterio\n",
            "Successfully installed affine-2.4.0 rasterio-1.3.10 snuggs-1.4.7\n",
            "Collecting segmentation_models\n",
            "  Downloading segmentation_models-1.0.1-py3-none-any.whl (33 kB)\n",
            "Collecting keras-applications<=1.0.8,>=1.0.7 (from segmentation_models)\n",
            "  Downloading Keras_Applications-1.0.8-py3-none-any.whl (50 kB)\n",
            "\u001b[2K     \u001b[90m━━━━━━━━━━━━━━━━━━━━━━━━━━━━━━━━━━━━━━━━\u001b[0m \u001b[32m50.7/50.7 kB\u001b[0m \u001b[31m2.6 MB/s\u001b[0m eta \u001b[36m0:00:00\u001b[0m\n",
            "\u001b[?25hCollecting image-classifiers==1.0.0 (from segmentation_models)\n",
            "  Downloading image_classifiers-1.0.0-py3-none-any.whl (19 kB)\n",
            "Collecting efficientnet==1.0.0 (from segmentation_models)\n",
            "  Downloading efficientnet-1.0.0-py3-none-any.whl (17 kB)\n",
            "Requirement already satisfied: scikit-image in /usr/local/lib/python3.10/dist-packages (from efficientnet==1.0.0->segmentation_models) (0.19.3)\n",
            "Requirement already satisfied: numpy>=1.9.1 in /usr/local/lib/python3.10/dist-packages (from keras-applications<=1.0.8,>=1.0.7->segmentation_models) (1.25.2)\n",
            "Requirement already satisfied: h5py in /usr/local/lib/python3.10/dist-packages (from keras-applications<=1.0.8,>=1.0.7->segmentation_models) (3.9.0)\n",
            "Requirement already satisfied: scipy>=1.4.1 in /usr/local/lib/python3.10/dist-packages (from scikit-image->efficientnet==1.0.0->segmentation_models) (1.11.4)\n",
            "Requirement already satisfied: networkx>=2.2 in /usr/local/lib/python3.10/dist-packages (from scikit-image->efficientnet==1.0.0->segmentation_models) (3.3)\n",
            "Requirement already satisfied: pillow!=7.1.0,!=7.1.1,!=8.3.0,>=6.1.0 in /usr/local/lib/python3.10/dist-packages (from scikit-image->efficientnet==1.0.0->segmentation_models) (9.4.0)\n",
            "Requirement already satisfied: imageio>=2.4.1 in /usr/local/lib/python3.10/dist-packages (from scikit-image->efficientnet==1.0.0->segmentation_models) (2.31.6)\n",
            "Requirement already satisfied: tifffile>=2019.7.26 in /usr/local/lib/python3.10/dist-packages (from scikit-image->efficientnet==1.0.0->segmentation_models) (2024.5.10)\n",
            "Requirement already satisfied: PyWavelets>=1.1.1 in /usr/local/lib/python3.10/dist-packages (from scikit-image->efficientnet==1.0.0->segmentation_models) (1.6.0)\n",
            "Requirement already satisfied: packaging>=20.0 in /usr/local/lib/python3.10/dist-packages (from scikit-image->efficientnet==1.0.0->segmentation_models) (24.0)\n",
            "Installing collected packages: keras-applications, image-classifiers, efficientnet, segmentation_models\n",
            "Successfully installed efficientnet-1.0.0 image-classifiers-1.0.0 keras-applications-1.0.8 segmentation_models-1.0.1\n",
            "Requirement already satisfied: scikit-learn in /usr/local/lib/python3.10/dist-packages (1.2.2)\n",
            "Requirement already satisfied: numpy>=1.17.3 in /usr/local/lib/python3.10/dist-packages (from scikit-learn) (1.25.2)\n",
            "Requirement already satisfied: scipy>=1.3.2 in /usr/local/lib/python3.10/dist-packages (from scikit-learn) (1.11.4)\n",
            "Requirement already satisfied: joblib>=1.1.1 in /usr/local/lib/python3.10/dist-packages (from scikit-learn) (1.4.2)\n",
            "Requirement already satisfied: threadpoolctl>=2.0.0 in /usr/local/lib/python3.10/dist-packages (from scikit-learn) (3.5.0)\n",
            "Requirement already satisfied: scikit-image in /usr/local/lib/python3.10/dist-packages (0.19.3)\n",
            "Requirement already satisfied: numpy>=1.17.0 in /usr/local/lib/python3.10/dist-packages (from scikit-image) (1.25.2)\n",
            "Requirement already satisfied: scipy>=1.4.1 in /usr/local/lib/python3.10/dist-packages (from scikit-image) (1.11.4)\n",
            "Requirement already satisfied: networkx>=2.2 in /usr/local/lib/python3.10/dist-packages (from scikit-image) (3.3)\n",
            "Requirement already satisfied: pillow!=7.1.0,!=7.1.1,!=8.3.0,>=6.1.0 in /usr/local/lib/python3.10/dist-packages (from scikit-image) (9.4.0)\n",
            "Requirement already satisfied: imageio>=2.4.1 in /usr/local/lib/python3.10/dist-packages (from scikit-image) (2.31.6)\n",
            "Requirement already satisfied: tifffile>=2019.7.26 in /usr/local/lib/python3.10/dist-packages (from scikit-image) (2024.5.10)\n",
            "Requirement already satisfied: PyWavelets>=1.1.1 in /usr/local/lib/python3.10/dist-packages (from scikit-image) (1.6.0)\n",
            "Requirement already satisfied: packaging>=20.0 in /usr/local/lib/python3.10/dist-packages (from scikit-image) (24.0)\n",
            "Requirement already satisfied: pandas in /usr/local/lib/python3.10/dist-packages (2.0.3)\n",
            "Requirement already satisfied: python-dateutil>=2.8.2 in /usr/local/lib/python3.10/dist-packages (from pandas) (2.8.2)\n",
            "Requirement already satisfied: pytz>=2020.1 in /usr/local/lib/python3.10/dist-packages (from pandas) (2023.4)\n",
            "Requirement already satisfied: tzdata>=2022.1 in /usr/local/lib/python3.10/dist-packages (from pandas) (2024.1)\n",
            "Requirement already satisfied: numpy>=1.21.0 in /usr/local/lib/python3.10/dist-packages (from pandas) (1.25.2)\n",
            "Requirement already satisfied: six>=1.5 in /usr/local/lib/python3.10/dist-packages (from python-dateutil>=2.8.2->pandas) (1.16.0)\n",
            "Requirement already satisfied: geopandas in /usr/local/lib/python3.10/dist-packages (0.13.2)\n",
            "Requirement already satisfied: fiona>=1.8.19 in /usr/local/lib/python3.10/dist-packages (from geopandas) (1.9.6)\n",
            "Requirement already satisfied: packaging in /usr/local/lib/python3.10/dist-packages (from geopandas) (24.0)\n",
            "Requirement already satisfied: pandas>=1.1.0 in /usr/local/lib/python3.10/dist-packages (from geopandas) (2.0.3)\n",
            "Requirement already satisfied: pyproj>=3.0.1 in /usr/local/lib/python3.10/dist-packages (from geopandas) (3.6.1)\n",
            "Requirement already satisfied: shapely>=1.7.1 in /usr/local/lib/python3.10/dist-packages (from geopandas) (2.0.4)\n",
            "Requirement already satisfied: attrs>=19.2.0 in /usr/local/lib/python3.10/dist-packages (from fiona>=1.8.19->geopandas) (23.2.0)\n",
            "Requirement already satisfied: certifi in /usr/local/lib/python3.10/dist-packages (from fiona>=1.8.19->geopandas) (2024.2.2)\n",
            "Requirement already satisfied: click~=8.0 in /usr/local/lib/python3.10/dist-packages (from fiona>=1.8.19->geopandas) (8.1.7)\n",
            "Requirement already satisfied: click-plugins>=1.0 in /usr/local/lib/python3.10/dist-packages (from fiona>=1.8.19->geopandas) (1.1.1)\n",
            "Requirement already satisfied: cligj>=0.5 in /usr/local/lib/python3.10/dist-packages (from fiona>=1.8.19->geopandas) (0.7.2)\n",
            "Requirement already satisfied: six in /usr/local/lib/python3.10/dist-packages (from fiona>=1.8.19->geopandas) (1.16.0)\n",
            "Requirement already satisfied: python-dateutil>=2.8.2 in /usr/local/lib/python3.10/dist-packages (from pandas>=1.1.0->geopandas) (2.8.2)\n",
            "Requirement already satisfied: pytz>=2020.1 in /usr/local/lib/python3.10/dist-packages (from pandas>=1.1.0->geopandas) (2023.4)\n",
            "Requirement already satisfied: tzdata>=2022.1 in /usr/local/lib/python3.10/dist-packages (from pandas>=1.1.0->geopandas) (2024.1)\n",
            "Requirement already satisfied: numpy>=1.21.0 in /usr/local/lib/python3.10/dist-packages (from pandas>=1.1.0->geopandas) (1.25.2)\n",
            "Requirement already satisfied: shapely in /usr/local/lib/python3.10/dist-packages (2.0.4)\n",
            "Requirement already satisfied: numpy<3,>=1.14 in /usr/local/lib/python3.10/dist-packages (from shapely) (1.25.2)\n",
            "Collecting rtree\n",
            "  Downloading Rtree-1.2.0-py3-none-manylinux2014_x86_64.manylinux_2_17_x86_64.whl (535 kB)\n",
            "\u001b[2K     \u001b[90m━━━━━━━━━━━━━━━━━━━━━━━━━━━━━━━━━━━━━━━━\u001b[0m \u001b[32m535.2/535.2 kB\u001b[0m \u001b[31m8.6 MB/s\u001b[0m eta \u001b[36m0:00:00\u001b[0m\n",
            "\u001b[?25hInstalling collected packages: rtree\n",
            "Successfully installed rtree-1.2.0\n",
            "Requirement already satisfied: strenum in /usr/local/lib/python3.10/dist-packages (0.4.15)\n",
            "Collecting imagecodecs\n",
            "  Downloading imagecodecs-2024.1.1-cp310-cp310-manylinux_2_17_x86_64.manylinux2014_x86_64.whl (39.6 MB)\n",
            "\u001b[2K     \u001b[90m━━━━━━━━━━━━━━━━━━━━━━━━━━━━━━━━━━━━━━━━\u001b[0m \u001b[32m39.6/39.6 MB\u001b[0m \u001b[31m35.9 MB/s\u001b[0m eta \u001b[36m0:00:00\u001b[0m\n",
            "\u001b[?25hRequirement already satisfied: numpy in /usr/local/lib/python3.10/dist-packages (from imagecodecs) (1.25.2)\n",
            "Installing collected packages: imagecodecs\n",
            "Successfully installed imagecodecs-2024.1.1\n",
            "Requirement already satisfied: tifffile in /usr/local/lib/python3.10/dist-packages (2024.5.10)\n",
            "Requirement already satisfied: numpy in /usr/local/lib/python3.10/dist-packages (from tifffile) (1.25.2)\n"
          ]
        }
      ],
      "source": [
        "!pip install keras_unet\n",
        "!pip install rasterio\n",
        "!pip install segmentation_models\n",
        "!pip install scikit-learn\n",
        "!pip install scikit-image\n",
        "!pip install pandas\n",
        "!pip install geopandas\n",
        "!pip install shapely\n",
        "!pip install rtree\n",
        "!pip install strenum\n",
        "!pip install imagecodecs\n",
        "!pip install tifffile"
      ]
    },
    {
      "cell_type": "code",
      "execution_count": null,
      "metadata": {
        "colab": {
          "base_uri": "https://localhost:8080/"
        },
        "id": "97e69uyL7vB7",
        "outputId": "a9cc45e3-073a-428a-9176-10ed913eff34"
      },
      "outputs": [
        {
          "output_type": "stream",
          "name": "stdout",
          "text": [
            "Segmentation Models: using `tf.keras` framework.\n",
            "-----------------------------------------\n",
            "keras-unet init: TF version is >= 2.0.0 - using `tf.keras` instead of `Keras`\n",
            "-----------------------------------------\n"
          ]
        }
      ],
      "source": [
        "os.environ[\"SM_FRAMEWORK\"] = \"tf.keras\"\n",
        "import rasterio\n",
        "import base\n",
        "from datetime import datetime\n",
        "from deep_learning_models.models.unet import Unet\n",
        "from deep_learning_models.utils.data_generator import DataGenerator\n",
        "from preprocess.split_dataset import SplitDataset\n",
        "from preprocess.create_patches import CreatePatches\n",
        "from train import Train\n",
        "from evaluate import Evaluate\n",
        "from predict import Predict"
      ]
    },
    {
      "cell_type": "code",
      "execution_count": null,
      "metadata": {
        "colab": {
          "base_uri": "https://localhost:8080/"
        },
        "id": "qJH4nPsz8Fct",
        "outputId": "b5161b0a-7850-466f-f090-3b504419137d"
      },
      "outputs": [
        {
          "output_type": "stream",
          "name": "stderr",
          "text": [
            "WARNING:tensorflow:Compiled the loaded model, but the compiled metrics have yet to be built. `model.compile_metrics` will be empty until you train or evaluate the model.\n"
          ]
        },
        {
          "output_type": "stream",
          "name": "stdout",
          "text": [
            "Epoch 1/1000\n",
            "5/5 [==============================] - ETA: 0s - loss: 0.3432 - recall: 0.0949 - precision: 0.2317 - f1-score: 0.1345 - iou_score: 0.0721"
          ]
        },
        {
          "output_type": "stream",
          "name": "stderr",
          "text": [
            "/usr/local/lib/python3.10/dist-packages/keras/src/engine/training.py:3103: UserWarning: You are saving your model as an HDF5 file via `model.save()`. This file format is considered legacy. We recommend using instead the native Keras format, e.g. `model.save('my_model.keras')`.\n",
            "  saving_api.save_model(\n"
          ]
        },
        {
          "output_type": "stream",
          "name": "stdout",
          "text": [
            "\b\b\b\b\b\b\b\b\b\b\b\b\b\b\b\b\b\b\b\b\b\b\b\b\b\b\b\b\b\b\b\b\b\b\b\b\b\b\b\b\b\b\b\b\b\b\b\b\b\b\b\b\b\b\b\b\b\b\b\b\b\b\b\b\b\b\b\b\b\b\b\b\b\b\b\b\b\b\b\b\b\b\b\b\b\b\b\b\b\b\b\b\b\b\b\b\b\b\b\b\b\b\b\b\b\b\b\b\b\b\b\b\b\b\b\b\b\b\b\b\b\b\b\b\b\b\b\b\b\b\b\b\b\b\b\b\b\r5/5 [==============================] - 46s 931ms/step - loss: 0.3432 - recall: 0.0949 - precision: 0.2317 - f1-score: 0.1345 - iou_score: 0.0721 - val_loss: 0.3172 - val_recall: 0.1119 - val_precision: 0.2263 - val_f1-score: 0.1497 - val_iou_score: 0.0809\n",
            "Epoch 2/1000\n",
            "5/5 [==============================] - 2s 496ms/step - loss: 0.2957 - recall: 0.1253 - precision: 0.2323 - f1-score: 0.1625 - iou_score: 0.0885 - val_loss: 0.2800 - val_recall: 0.1520 - val_precision: 0.2246 - val_f1-score: 0.1813 - val_iou_score: 0.0997\n",
            "Epoch 3/1000\n",
            "5/5 [==============================] - 2s 343ms/step - loss: 0.2641 - recall: 0.1699 - precision: 0.2338 - f1-score: 0.1966 - iou_score: 0.1090 - val_loss: 0.2942 - val_recall: 0.1851 - val_precision: 0.2242 - val_f1-score: 0.2028 - val_iou_score: 0.1128\n",
            "Epoch 4/1000\n",
            "5/5 [==============================] - 2s 501ms/step - loss: 0.2420 - recall: 0.2241 - precision: 0.2349 - f1-score: 0.2291 - iou_score: 0.1294 - val_loss: 0.2561 - val_recall: 0.2087 - val_precision: 0.2150 - val_f1-score: 0.2118 - val_iou_score: 0.1184\n",
            "Epoch 5/1000\n",
            "5/5 [==============================] - 3s 558ms/step - loss: 0.2282 - recall: 0.2231 - precision: 0.2358 - f1-score: 0.2291 - iou_score: 0.1294 - val_loss: 0.2238 - val_recall: 0.1846 - val_precision: 0.2179 - val_f1-score: 0.1999 - val_iou_score: 0.1110\n",
            "Epoch 6/1000\n",
            "5/5 [==============================] - 3s 528ms/step - loss: 0.2132 - recall: 0.1993 - precision: 0.2362 - f1-score: 0.2156 - iou_score: 0.1209 - val_loss: 0.2157 - val_recall: 0.1444 - val_precision: 0.2216 - val_f1-score: 0.1748 - val_iou_score: 0.0958\n",
            "Epoch 7/1000\n",
            "5/5 [==============================] - 2s 497ms/step - loss: 0.1990 - recall: 0.1693 - precision: 0.2335 - f1-score: 0.1957 - iou_score: 0.1085 - val_loss: 0.2038 - val_recall: 0.1531 - val_precision: 0.2216 - val_f1-score: 0.1810 - val_iou_score: 0.0995\n",
            "Epoch 8/1000\n",
            "5/5 [==============================] - 2s 504ms/step - loss: 0.1874 - recall: 0.1526 - precision: 0.2347 - f1-score: 0.1848 - iou_score: 0.1018 - val_loss: 0.1834 - val_recall: 0.1326 - val_precision: 0.2173 - val_f1-score: 0.1647 - val_iou_score: 0.0897\n",
            "Epoch 9/1000\n",
            "5/5 [==============================] - 2s 500ms/step - loss: 0.1808 - recall: 0.1358 - precision: 0.2414 - f1-score: 0.1737 - iou_score: 0.0951 - val_loss: 0.1728 - val_recall: 0.1182 - val_precision: 0.2216 - val_f1-score: 0.1542 - val_iou_score: 0.0835\n",
            "Epoch 10/1000\n",
            "5/5 [==============================] - 3s 531ms/step - loss: 0.1729 - recall: 0.1247 - precision: 0.2359 - f1-score: 0.1629 - iou_score: 0.0887 - val_loss: 0.1658 - val_recall: 0.1002 - val_precision: 0.2195 - val_f1-score: 0.1375 - val_iou_score: 0.0739\n",
            "Epoch 11/1000\n",
            "5/5 [==============================] - 3s 553ms/step - loss: 0.1677 - recall: 0.1072 - precision: 0.2335 - f1-score: 0.1467 - iou_score: 0.0792 - val_loss: 0.1649 - val_recall: 0.0844 - val_precision: 0.2166 - val_f1-score: 0.1215 - val_iou_score: 0.0647\n",
            "Epoch 12/1000\n",
            "5/5 [==============================] - 2s 351ms/step - loss: 0.1636 - recall: 0.0920 - precision: 0.2322 - f1-score: 0.1316 - iou_score: 0.0704 - val_loss: 0.1660 - val_recall: 0.0914 - val_precision: 0.2258 - val_f1-score: 0.1301 - val_iou_score: 0.0696\n",
            "Epoch 13/1000\n",
            "5/5 [==============================] - 2s 503ms/step - loss: 0.1621 - recall: 0.0838 - precision: 0.2371 - f1-score: 0.1238 - iou_score: 0.0660 - val_loss: 0.1607 - val_recall: 0.0862 - val_precision: 0.2210 - val_f1-score: 0.1241 - val_iou_score: 0.0661\n",
            "Epoch 14/1000\n",
            "5/5 [==============================] - 2s 505ms/step - loss: 0.1585 - recall: 0.0752 - precision: 0.2384 - f1-score: 0.1142 - iou_score: 0.0606 - val_loss: 0.1549 - val_recall: 0.0637 - val_precision: 0.2105 - val_f1-score: 0.0978 - val_iou_score: 0.0514\n",
            "Epoch 15/1000\n",
            "5/5 [==============================] - 3s 542ms/step - loss: 0.1549 - recall: 0.0668 - precision: 0.2340 - f1-score: 0.1040 - iou_score: 0.0549 - val_loss: 0.1517 - val_recall: 0.0682 - val_precision: 0.2086 - val_f1-score: 0.1028 - val_iou_score: 0.0542\n",
            "Epoch 16/1000\n",
            "5/5 [==============================] - 2s 353ms/step - loss: 0.1543 - recall: 0.0580 - precision: 0.2310 - f1-score: 0.0925 - iou_score: 0.0485 - val_loss: 0.1542 - val_recall: 0.0522 - val_precision: 0.2222 - val_f1-score: 0.0845 - val_iou_score: 0.0441\n",
            "Epoch 17/1000\n",
            "5/5 [==============================] - 2s 358ms/step - loss: 0.1546 - recall: 0.0485 - precision: 0.2403 - f1-score: 0.0807 - iou_score: 0.0421 - val_loss: 0.1538 - val_recall: 0.0624 - val_precision: 0.2142 - val_f1-score: 0.0967 - val_iou_score: 0.0508\n",
            "Epoch 18/1000\n",
            "5/5 [==============================] - 2s 356ms/step - loss: 0.1541 - recall: 0.0506 - precision: 0.2417 - f1-score: 0.0836 - iou_score: 0.0436 - val_loss: 0.1575 - val_recall: 0.0724 - val_precision: 0.2179 - val_f1-score: 0.1087 - val_iou_score: 0.0575\n",
            "Epoch 19/1000\n",
            "5/5 [==============================] - 4s 803ms/step - loss: 0.1514 - recall: 0.0456 - precision: 0.2378 - f1-score: 0.0764 - iou_score: 0.0397 - val_loss: 0.1510 - val_recall: 0.0437 - val_precision: 0.2194 - val_f1-score: 0.0728 - val_iou_score: 0.0378\n",
            "Epoch 20/1000\n",
            "5/5 [==============================] - 3s 557ms/step - loss: 0.1502 - recall: 0.0391 - precision: 0.2353 - f1-score: 0.0673 - iou_score: 0.0349 - val_loss: 0.1498 - val_recall: 0.0449 - val_precision: 0.2176 - val_f1-score: 0.0744 - val_iou_score: 0.0386\n",
            "Epoch 21/1000\n",
            "5/5 [==============================] - 3s 507ms/step - loss: 0.1495 - recall: 0.0294 - precision: 0.2356 - f1-score: 0.0524 - iou_score: 0.0269 - val_loss: 0.1491 - val_recall: 0.0303 - val_precision: 0.2197 - val_f1-score: 0.0533 - val_iou_score: 0.0274\n",
            "Epoch 22/1000\n",
            "5/5 [==============================] - 2s 359ms/step - loss: 0.1507 - recall: 0.0320 - precision: 0.2390 - f1-score: 0.0564 - iou_score: 0.0290 - val_loss: 0.1542 - val_recall: 0.0620 - val_precision: 0.2191 - val_f1-score: 0.0967 - val_iou_score: 0.0508\n",
            "Epoch 23/1000\n",
            "5/5 [==============================] - 3s 546ms/step - loss: 0.1472 - recall: 0.0315 - precision: 0.2345 - f1-score: 0.0554 - iou_score: 0.0285 - val_loss: 0.1468 - val_recall: 0.0391 - val_precision: 0.2167 - val_f1-score: 0.0663 - val_iou_score: 0.0343\n",
            "Epoch 24/1000\n",
            "5/5 [==============================] - 3s 527ms/step - loss: 0.1471 - recall: 0.0262 - precision: 0.2372 - f1-score: 0.0471 - iou_score: 0.0241 - val_loss: 0.1464 - val_recall: 0.0279 - val_precision: 0.2130 - val_f1-score: 0.0493 - val_iou_score: 0.0253\n",
            "Epoch 25/1000\n",
            "5/5 [==============================] - 2s 522ms/step - loss: 0.1464 - recall: 0.0217 - precision: 0.2324 - f1-score: 0.0397 - iou_score: 0.0203 - val_loss: 0.1462 - val_recall: 0.0249 - val_precision: 0.2110 - val_f1-score: 0.0445 - val_iou_score: 0.0228\n",
            "Epoch 26/1000\n",
            "5/5 [==============================] - 2s 391ms/step - loss: 0.1474 - recall: 0.0212 - precision: 0.2392 - f1-score: 0.0390 - iou_score: 0.0199 - val_loss: 0.1477 - val_recall: 0.0317 - val_precision: 0.2231 - val_f1-score: 0.0556 - val_iou_score: 0.0286\n",
            "Epoch 27/1000\n",
            "5/5 [==============================] - 2s 359ms/step - loss: 0.1478 - recall: 0.0264 - precision: 0.2396 - f1-score: 0.0472 - iou_score: 0.0242 - val_loss: 0.1470 - val_recall: 0.0307 - val_precision: 0.2221 - val_f1-score: 0.0540 - val_iou_score: 0.0277\n",
            "Epoch 28/1000\n",
            "5/5 [==============================] - 3s 531ms/step - loss: 0.1452 - recall: 0.0209 - precision: 0.2395 - f1-score: 0.0378 - iou_score: 0.0193 - val_loss: 0.1451 - val_recall: 0.0195 - val_precision: 0.2163 - val_f1-score: 0.0358 - val_iou_score: 0.0182\n",
            "Epoch 29/1000\n",
            "5/5 [==============================] - 2s 408ms/step - loss: 0.1456 - recall: 0.0179 - precision: 0.2323 - f1-score: 0.0334 - iou_score: 0.0170 - val_loss: 0.1454 - val_recall: 0.0198 - val_precision: 0.2190 - val_f1-score: 0.0362 - val_iou_score: 0.0185\n",
            "Epoch 30/1000\n",
            "5/5 [==============================] - 2s 374ms/step - loss: 0.1462 - recall: 0.0171 - precision: 0.2359 - f1-score: 0.0320 - iou_score: 0.0163 - val_loss: 0.1481 - val_recall: 0.0298 - val_precision: 0.2245 - val_f1-score: 0.0527 - val_iou_score: 0.0270\n",
            "Epoch 31/1000\n",
            "5/5 [==============================] - 2s 362ms/step - loss: 0.1442 - recall: 0.0175 - precision: 0.2332 - f1-score: 0.0325 - iou_score: 0.0165 - val_loss: 0.1477 - val_recall: 0.0252 - val_precision: 0.2236 - val_f1-score: 0.0453 - val_iou_score: 0.0232\n",
            "Epoch 32/1000\n",
            "5/5 [==============================] - 2s 370ms/step - loss: 0.1433 - recall: 0.0153 - precision: 0.2362 - f1-score: 0.0287 - iou_score: 0.0146 - val_loss: 0.1467 - val_recall: 0.0270 - val_precision: 0.2230 - val_f1-score: 0.0481 - val_iou_score: 0.0247\n",
            "Epoch 33/1000\n",
            "5/5 [==============================] - 3s 527ms/step - loss: 0.1454 - recall: 0.0122 - precision: 0.2403 - f1-score: 0.0231 - iou_score: 0.0117 - val_loss: 0.1442 - val_recall: 0.0118 - val_precision: 0.2085 - val_f1-score: 0.0223 - val_iou_score: 0.0113\n",
            "Epoch 34/1000\n",
            "5/5 [==============================] - 2s 521ms/step - loss: 0.1462 - recall: 0.0134 - precision: 0.2440 - f1-score: 0.0255 - iou_score: 0.0129 - val_loss: 0.1433 - val_recall: 0.0198 - val_precision: 0.2175 - val_f1-score: 0.0364 - val_iou_score: 0.0185\n",
            "Epoch 35/1000\n",
            "5/5 [==============================] - 2s 409ms/step - loss: 0.1438 - recall: 0.0166 - precision: 0.2385 - f1-score: 0.0309 - iou_score: 0.0157 - val_loss: 0.1462 - val_recall: 0.0285 - val_precision: 0.2111 - val_f1-score: 0.0502 - val_iou_score: 0.0257\n",
            "Epoch 36/1000\n",
            "5/5 [==============================] - 3s 532ms/step - loss: 0.1438 - recall: 0.0116 - precision: 0.2327 - f1-score: 0.0221 - iou_score: 0.0112 - val_loss: 0.1428 - val_recall: 0.0157 - val_precision: 0.2160 - val_f1-score: 0.0292 - val_iou_score: 0.0148\n",
            "Epoch 37/1000\n",
            "5/5 [==============================] - 3s 527ms/step - loss: 0.1434 - recall: 0.0128 - precision: 0.2384 - f1-score: 0.0243 - iou_score: 0.0123 - val_loss: 0.1413 - val_recall: 0.0059 - val_precision: 0.2126 - val_f1-score: 0.0115 - val_iou_score: 0.0058\n",
            "Epoch 38/1000\n",
            "5/5 [==============================] - 2s 367ms/step - loss: 0.1453 - recall: 0.0124 - precision: 0.2458 - f1-score: 0.0235 - iou_score: 0.0119 - val_loss: 0.1420 - val_recall: 0.0138 - val_precision: 0.2096 - val_f1-score: 0.0259 - val_iou_score: 0.0131\n",
            "Epoch 39/1000\n",
            "5/5 [==============================] - 2s 368ms/step - loss: 0.1447 - recall: 0.0113 - precision: 0.2386 - f1-score: 0.0215 - iou_score: 0.0109 - val_loss: 0.1421 - val_recall: 0.0126 - val_precision: 0.2175 - val_f1-score: 0.0237 - val_iou_score: 0.0120\n",
            "Epoch 40/1000\n",
            "5/5 [==============================] - 3s 524ms/step - loss: 0.1438 - recall: 0.0102 - precision: 0.2453 - f1-score: 0.0194 - iou_score: 0.0098 - val_loss: 0.1398 - val_recall: 0.0110 - val_precision: 0.2133 - val_f1-score: 0.0209 - val_iou_score: 0.0106\n",
            "Epoch 41/1000\n",
            "5/5 [==============================] - 2s 383ms/step - loss: 0.1441 - recall: 0.0097 - precision: 0.2404 - f1-score: 0.0187 - iou_score: 0.0094 - val_loss: 0.1431 - val_recall: 0.0173 - val_precision: 0.2162 - val_f1-score: 0.0320 - val_iou_score: 0.0163\n",
            "Epoch 42/1000\n",
            "5/5 [==============================] - 2s 373ms/step - loss: 0.1428 - recall: 0.0085 - precision: 0.2353 - f1-score: 0.0163 - iou_score: 0.0082 - val_loss: 0.1419 - val_recall: 0.0132 - val_precision: 0.2158 - val_f1-score: 0.0249 - val_iou_score: 0.0126\n",
            "Epoch 43/1000\n",
            "5/5 [==============================] - 2s 374ms/step - loss: 0.1430 - recall: 0.0080 - precision: 0.2338 - f1-score: 0.0156 - iou_score: 0.0079 - val_loss: 0.1425 - val_recall: 0.0140 - val_precision: 0.2161 - val_f1-score: 0.0262 - val_iou_score: 0.0133\n",
            "Epoch 44/1000\n",
            "5/5 [==============================] - 2s 371ms/step - loss: 0.1434 - recall: 0.0089 - precision: 0.2364 - f1-score: 0.0171 - iou_score: 0.0086 - val_loss: 0.1423 - val_recall: 0.0155 - val_precision: 0.2162 - val_f1-score: 0.0290 - val_iou_score: 0.0147\n",
            "Epoch 45/1000\n",
            "5/5 [==============================] - 2s 371ms/step - loss: 0.1428 - recall: 0.0074 - precision: 0.2382 - f1-score: 0.0143 - iou_score: 0.0072 - val_loss: 0.1444 - val_recall: 0.0252 - val_precision: 0.2133 - val_f1-score: 0.0451 - val_iou_score: 0.0231\n",
            "Epoch 46/1000\n",
            "5/5 [==============================] - 2s 369ms/step - loss: 0.1421 - recall: 0.0074 - precision: 0.2325 - f1-score: 0.0142 - iou_score: 0.0072 - val_loss: 0.1425 - val_recall: 0.0147 - val_precision: 0.2139 - val_f1-score: 0.0275 - val_iou_score: 0.0139\n",
            "Epoch 47/1000\n",
            "5/5 [==============================] - 2s 400ms/step - loss: 0.1434 - recall: 0.0082 - precision: 0.2414 - f1-score: 0.0158 - iou_score: 0.0079 - val_loss: 0.1417 - val_recall: 0.0106 - val_precision: 0.2098 - val_f1-score: 0.0202 - val_iou_score: 0.0102\n",
            "Epoch 48/1000\n",
            "5/5 [==============================] - 2s 379ms/step - loss: 0.1420 - recall: 0.0064 - precision: 0.2346 - f1-score: 0.0123 - iou_score: 0.0062 - val_loss: 0.1443 - val_recall: 0.0195 - val_precision: 0.2132 - val_f1-score: 0.0357 - val_iou_score: 0.0182\n",
            "Epoch 49/1000\n",
            "5/5 [==============================] - 3s 733ms/step - loss: 0.1438 - recall: 0.0066 - precision: 0.2441 - f1-score: 0.0128 - iou_score: 0.0064 - val_loss: 0.1395 - val_recall: 0.0093 - val_precision: 0.2101 - val_f1-score: 0.0179 - val_iou_score: 0.0090\n",
            "Epoch 50/1000\n",
            "5/5 [==============================] - 2s 364ms/step - loss: 0.1428 - recall: 0.0069 - precision: 0.2374 - f1-score: 0.0134 - iou_score: 0.0067 - val_loss: 0.1432 - val_recall: 0.0100 - val_precision: 0.2107 - val_f1-score: 0.0191 - val_iou_score: 0.0096\n",
            "Epoch 51/1000\n",
            "5/5 [==============================] - 2s 368ms/step - loss: 0.1428 - recall: 0.0070 - precision: 0.2424 - f1-score: 0.0135 - iou_score: 0.0068 - val_loss: 0.1411 - val_recall: 0.0092 - val_precision: 0.2069 - val_f1-score: 0.0176 - val_iou_score: 0.0089\n",
            "Epoch 52/1000\n",
            "5/5 [==============================] - 2s 375ms/step - loss: 0.1420 - recall: 0.0062 - precision: 0.2461 - f1-score: 0.0120 - iou_score: 0.0060 - val_loss: 0.1427 - val_recall: 0.0090 - val_precision: 0.2182 - val_f1-score: 0.0173 - val_iou_score: 0.0087\n",
            "Epoch 53/1000\n",
            "5/5 [==============================] - 2s 393ms/step - loss: 0.1436 - recall: 0.0053 - precision: 0.2409 - f1-score: 0.0103 - iou_score: 0.0052 - val_loss: 0.1396 - val_recall: 0.0086 - val_precision: 0.2125 - val_f1-score: 0.0165 - val_iou_score: 0.0083\n",
            "Epoch 54/1000\n",
            "5/5 [==============================] - 2s 370ms/step - loss: 0.1431 - recall: 0.0089 - precision: 0.2471 - f1-score: 0.0171 - iou_score: 0.0086 - val_loss: 0.1417 - val_recall: 0.0052 - val_precision: 0.2082 - val_f1-score: 0.0102 - val_iou_score: 0.0051\n",
            "Epoch 55/1000\n",
            "5/5 [==============================] - 2s 368ms/step - loss: 0.1439 - recall: 0.0073 - precision: 0.2297 - f1-score: 0.0145 - iou_score: 0.0073 - val_loss: 0.1407 - val_recall: 0.0093 - val_precision: 0.2090 - val_f1-score: 0.0178 - val_iou_score: 0.0090\n",
            "Epoch 56/1000\n",
            "5/5 [==============================] - 2s 366ms/step - loss: 0.1438 - recall: 0.0051 - precision: 0.2489 - f1-score: 0.0097 - iou_score: 0.0049 - val_loss: 0.1402 - val_recall: 0.0042 - val_precision: 0.2191 - val_f1-score: 0.0083 - val_iou_score: 0.0042\n",
            "Epoch 57/1000\n",
            "5/5 [==============================] - 2s 363ms/step - loss: 0.1423 - recall: 0.0071 - precision: 0.2424 - f1-score: 0.0138 - iou_score: 0.0069 - val_loss: 0.1404 - val_recall: 0.0043 - val_precision: 0.2095 - val_f1-score: 0.0084 - val_iou_score: 0.0042\n",
            "Epoch 58/1000\n",
            "5/5 [==============================] - 2s 369ms/step - loss: 0.1426 - recall: 0.0055 - precision: 0.2439 - f1-score: 0.0109 - iou_score: 0.0055 - val_loss: 0.1396 - val_recall: 0.0087 - val_precision: 0.2119 - val_f1-score: 0.0167 - val_iou_score: 0.0084\n",
            "Epoch 59/1000\n",
            "5/5 [==============================] - 2s 406ms/step - loss: 0.1422 - recall: 0.0055 - precision: 0.2443 - f1-score: 0.0106 - iou_score: 0.0053 - val_loss: 0.1416 - val_recall: 0.0042 - val_precision: 0.2212 - val_f1-score: 0.0083 - val_iou_score: 0.0041\n",
            "Epoch 59: early stopping\n"
          ]
        }
      ],
      "source": [
        "config = base.Base()\n",
        "split_dataset_obj = SplitDataset()\n",
        "split_dataset_obj.split_dataset()\n",
        "create_patches_obj = CreatePatches()\n",
        "create_patches_obj.create_patch()\n",
        "train_generator = DataGenerator(config.train_patches_dir)\n",
        "validate_generator = DataGenerator(config.validate_patches_dir)\n",
        "test_generator = DataGenerator(config.test_patches_dir)\n",
        "create_obj = Unet().create_model()\n",
        "train_obj = Train(train_generator, validate_generator)\n",
        "train_obj.train()"
      ]
    },
    {
      "cell_type": "code",
      "execution_count": null,
      "metadata": {
        "id": "OxS8a-teE6Ht"
      },
      "outputs": [],
      "source": [
        "###############################3"
      ]
    },
    {
      "cell_type": "code",
      "execution_count": null,
      "metadata": {
        "id": "lUGfb02dES1r"
      },
      "outputs": [],
      "source": [
        "config = base.Base()"
      ]
    },
    {
      "cell_type": "code",
      "execution_count": null,
      "metadata": {
        "id": "zmGnRCKNEXPQ"
      },
      "outputs": [],
      "source": [
        "split_dataset_obj = SplitDataset()"
      ]
    },
    {
      "cell_type": "code",
      "execution_count": null,
      "metadata": {
        "id": "DG66xpccEXHL"
      },
      "outputs": [],
      "source": [
        "split_dataset_obj.split_dataset()"
      ]
    },
    {
      "cell_type": "code",
      "execution_count": null,
      "metadata": {
        "id": "RkunV0X3EXAI"
      },
      "outputs": [],
      "source": [
        "create_patches_obj = CreatePatches()"
      ]
    },
    {
      "cell_type": "code",
      "execution_count": null,
      "metadata": {
        "id": "y9T_j6wbEW5c"
      },
      "outputs": [],
      "source": [
        "create_patches_obj.create_patch()"
      ]
    },
    {
      "cell_type": "code",
      "execution_count": null,
      "metadata": {
        "id": "sBaTPNaYEmPY"
      },
      "outputs": [],
      "source": [
        "train_generator = DataGenerator(config.train_patches_dir)"
      ]
    },
    {
      "cell_type": "code",
      "execution_count": null,
      "metadata": {
        "id": "W6i5gDDkEnXG"
      },
      "outputs": [],
      "source": [
        "validate_generator = DataGenerator(config.validate_patches_dir)"
      ]
    },
    {
      "cell_type": "code",
      "execution_count": null,
      "metadata": {
        "id": "1fb1JWRVEnI2"
      },
      "outputs": [],
      "source": [
        "test_generator = DataGenerator(config.test_patches_dir)"
      ]
    },
    {
      "cell_type": "code",
      "execution_count": null,
      "metadata": {
        "colab": {
          "base_uri": "https://localhost:8080/"
        },
        "id": "uHfEpD60Em9b",
        "outputId": "a1de7f0b-e1fc-4020-ff2f-31db7710e324"
      },
      "outputs": [
        {
          "name": "stderr",
          "output_type": "stream",
          "text": [
            "WARNING:tensorflow:Compiled the loaded model, but the compiled metrics have yet to be built. `model.compile_metrics` will be empty until you train or evaluate the model.\n"
          ]
        }
      ],
      "source": [
        "create_obj = Unet().create_model()"
      ]
    },
    {
      "cell_type": "code",
      "execution_count": null,
      "metadata": {
        "id": "ES2Rg0eVEpoH"
      },
      "outputs": [],
      "source": [
        "train_obj = Train(train_generator, validate_generator)"
      ]
    },
    {
      "cell_type": "code",
      "execution_count": null,
      "metadata": {
        "colab": {
          "base_uri": "https://localhost:8080/"
        },
        "id": "CZELnU57Epfg",
        "outputId": "bcc3e2d7-87bb-4740-91d3-90c4730622db"
      },
      "outputs": [
        {
          "name": "stdout",
          "output_type": "stream",
          "text": [
            "Epoch 1/20\n",
            "5/5 [==============================] - ETA: 0s - loss: 0.3468 - recall: 0.5023 - precision: 0.2479 - f1-score: 0.3310 - iou_score: 0.1985 "
          ]
        },
        {
          "name": "stderr",
          "output_type": "stream",
          "text": [
            "/usr/local/lib/python3.10/dist-packages/keras/src/engine/training.py:3103: UserWarning: You are saving your model as an HDF5 file via `model.save()`. This file format is considered legacy. We recommend using instead the native Keras format, e.g. `model.save('my_model.keras')`.\n",
            "  saving_api.save_model(\n"
          ]
        },
        {
          "name": "stdout",
          "output_type": "stream",
          "text": [
            "\b\b\b\b\b\b\b\b\b\b\b\b\b\b\b\b\b\b\b\b\b\b\b\b\b\b\b\b\b\b\b\b\b\b\b\b\b\b\b\b\b\b\b\b\b\b\b\b\b\b\b\b\b\b\b\b\b\b\b\b\b\b\b\b\b\b\b\b\b\b\b\b\b\b\b\b\b\b\b\b\b\b\b\b\b\b\b\b\b\b\b\b\b\b\b\b\b\b\b\b\b\b\b\b\b\b\b\b\b\b\b\b\b\b\b\b\b\b\b\b\b\b\b\b\b\b\b\b\b\b\b\b\b\b\b\b\b\r5/5 [==============================] - 201s 37s/step - loss: 0.3468 - recall: 0.5023 - precision: 0.2479 - f1-score: 0.3310 - iou_score: 0.1985 - val_loss: 0.3227 - val_recall: 0.4417 - val_precision: 0.2279 - val_f1-score: 0.3006 - val_iou_score: 0.1769\n",
            "Epoch 2/20\n",
            "5/5 [==============================] - 188s 39s/step - loss: 0.2743 - recall: 0.4075 - precision: 0.2542 - f1-score: 0.3124 - iou_score: 0.1852 - val_loss: 0.2719 - val_recall: 0.2780 - val_precision: 0.2307 - val_f1-score: 0.2521 - val_iou_score: 0.1443\n",
            "Epoch 3/20\n",
            "5/5 [==============================] - 182s 36s/step - loss: 0.2367 - recall: 0.3187 - precision: 0.2701 - f1-score: 0.2921 - iou_score: 0.1711 - val_loss: 0.2613 - val_recall: 0.2325 - val_precision: 0.2342 - val_f1-score: 0.2334 - val_iou_score: 0.1321\n",
            "Epoch 4/20\n",
            "5/5 [==============================] - 181s 37s/step - loss: 0.2233 - recall: 0.2491 - precision: 0.2784 - f1-score: 0.2597 - iou_score: 0.1495 - val_loss: 0.2309 - val_recall: 0.1783 - val_precision: 0.2354 - val_f1-score: 0.2029 - val_iou_score: 0.1129\n",
            "Epoch 5/20\n",
            "5/5 [==============================] - 201s 42s/step - loss: 0.2097 - recall: 0.2158 - precision: 0.2894 - f1-score: 0.2466 - iou_score: 0.1407 - val_loss: 0.2362 - val_recall: 0.1352 - val_precision: 0.2301 - val_f1-score: 0.1703 - val_iou_score: 0.0931\n",
            "Epoch 6/20\n",
            "5/5 [==============================] - 177s 36s/step - loss: 0.1975 - recall: 0.2190 - precision: 0.2947 - f1-score: 0.2500 - iou_score: 0.1430 - val_loss: 0.2297 - val_recall: 0.1678 - val_precision: 0.2436 - val_f1-score: 0.1987 - val_iou_score: 0.1103\n",
            "Epoch 7/20\n",
            "5/5 [==============================] - 181s 37s/step - loss: 0.1851 - recall: 0.1989 - precision: 0.2920 - f1-score: 0.2363 - iou_score: 0.1340 - val_loss: 0.2195 - val_recall: 0.1438 - val_precision: 0.2420 - val_f1-score: 0.1804 - val_iou_score: 0.0991\n",
            "Epoch 8/20\n",
            "5/5 [==============================] - 187s 38s/step - loss: 0.1775 - recall: 0.2206 - precision: 0.2968 - f1-score: 0.2525 - iou_score: 0.1446 - val_loss: 0.2056 - val_recall: 0.1698 - val_precision: 0.2509 - val_f1-score: 0.2025 - val_iou_score: 0.1127\n",
            "Epoch 9/20\n",
            "5/5 [==============================] - 177s 35s/step - loss: 0.1732 - recall: 0.2357 - precision: 0.3032 - f1-score: 0.2637 - iou_score: 0.1520 - val_loss: 0.2125 - val_recall: 0.1318 - val_precision: 0.2390 - val_f1-score: 0.1699 - val_iou_score: 0.0928\n",
            "Epoch 10/20\n",
            "5/5 [==============================] - 181s 37s/step - loss: 0.1686 - recall: 0.2019 - precision: 0.3018 - f1-score: 0.2410 - iou_score: 0.1371 - val_loss: 0.1957 - val_recall: 0.1371 - val_precision: 0.2435 - val_f1-score: 0.1754 - val_iou_score: 0.0961\n",
            "Epoch 11/20\n",
            "5/5 [==============================] - 183s 37s/step - loss: 0.1601 - recall: 0.1810 - precision: 0.3119 - f1-score: 0.2289 - iou_score: 0.1293 - val_loss: 0.1834 - val_recall: 0.1247 - val_precision: 0.2485 - val_f1-score: 0.1661 - val_iou_score: 0.0906\n",
            "Epoch 12/20\n",
            "5/5 [==============================] - 178s 36s/step - loss: 0.1590 - recall: 0.1829 - precision: 0.3113 - f1-score: 0.2291 - iou_score: 0.1295 - val_loss: 0.2005 - val_recall: 0.1662 - val_precision: 0.2384 - val_f1-score: 0.1958 - val_iou_score: 0.1085\n",
            "Epoch 13/20\n",
            "5/5 [==============================] - 179s 36s/step - loss: 0.1526 - recall: 0.1730 - precision: 0.3145 - f1-score: 0.2221 - iou_score: 0.1250 - val_loss: 0.1695 - val_recall: 0.1334 - val_precision: 0.2513 - val_f1-score: 0.1743 - val_iou_score: 0.0955\n",
            "Epoch 14/20\n",
            "5/5 [==============================] - 179s 36s/step - loss: 0.1514 - recall: 0.1663 - precision: 0.3213 - f1-score: 0.2182 - iou_score: 0.1225 - val_loss: 0.1738 - val_recall: 0.1067 - val_precision: 0.2663 - val_f1-score: 0.1523 - val_iou_score: 0.0825\n",
            "Epoch 15/20\n",
            "5/5 [==============================] - 182s 36s/step - loss: 0.1485 - recall: 0.1397 - precision: 0.3332 - f1-score: 0.1967 - iou_score: 0.1091 - val_loss: 0.1673 - val_recall: 0.0997 - val_precision: 0.2569 - val_f1-score: 0.1436 - val_iou_score: 0.0774\n",
            "Epoch 16/20\n",
            "5/5 [==============================] - 178s 36s/step - loss: 0.1470 - recall: 0.1421 - precision: 0.3405 - f1-score: 0.2005 - iou_score: 0.1114 - val_loss: 0.1568 - val_recall: 0.1151 - val_precision: 0.2658 - val_f1-score: 0.1606 - val_iou_score: 0.0873\n",
            "Epoch 17/20\n",
            "5/5 [==============================] - 178s 36s/step - loss: 0.1468 - recall: 0.1487 - precision: 0.3417 - f1-score: 0.2058 - iou_score: 0.1148 - val_loss: 0.1858 - val_recall: 0.0852 - val_precision: 0.2386 - val_f1-score: 0.1256 - val_iou_score: 0.0670\n",
            "Epoch 18/20\n",
            "5/5 [==============================] - 178s 36s/step - loss: 0.1426 - recall: 0.1294 - precision: 0.3453 - f1-score: 0.1881 - iou_score: 0.1038 - val_loss: 0.1930 - val_recall: 0.0681 - val_precision: 0.2551 - val_f1-score: 0.1075 - val_iou_score: 0.0568\n",
            "Epoch 19/20\n",
            "5/5 [==============================] - 176s 36s/step - loss: 0.1420 - recall: 0.1300 - precision: 0.3526 - f1-score: 0.1890 - iou_score: 0.1045 - val_loss: 0.1759 - val_recall: 0.0932 - val_precision: 0.2517 - val_f1-score: 0.1361 - val_iou_score: 0.0730\n",
            "Epoch 20/20\n",
            "5/5 [==============================] - 178s 36s/step - loss: 0.1431 - recall: 0.1289 - precision: 0.3485 - f1-score: 0.1882 - iou_score: 0.1040 - val_loss: 0.1718 - val_recall: 0.0668 - val_precision: 0.2723 - val_f1-score: 0.1073 - val_iou_score: 0.0567\n"
          ]
        }
      ],
      "source": [
        "train_obj.train()"
      ]
    },
    {
      "cell_type": "code",
      "execution_count": null,
      "metadata": {
        "id": "bMi896uXE3yS"
      },
      "outputs": [],
      "source": [
        "############################################"
      ]
    },
    {
      "cell_type": "code",
      "execution_count": null,
      "metadata": {
        "id": "jfAoKssN9F15"
      },
      "outputs": [],
      "source": [
        "evaluate_obj = Evaluate(validate_generator)"
      ]
    },
    {
      "cell_type": "code",
      "execution_count": null,
      "metadata": {
        "colab": {
          "base_uri": "https://localhost:8080/"
        },
        "id": "ZV6ZJSWW8K9T",
        "outputId": "7dc29d1b-2e8a-478d-c163-ac13acdf5947"
      },
      "outputs": [
        {
          "output_type": "stream",
          "name": "stderr",
          "text": [
            "/usr/lib/python3.10/multiprocessing/popen_fork.py:66: RuntimeWarning: os.fork() was called. os.fork() is incompatible with multithreaded code, and JAX is multithreaded, so this will likely lead to a deadlock.\n",
            "  self.pid = os.fork()\n",
            "/usr/lib/python3.10/multiprocessing/popen_fork.py:66: RuntimeWarning: os.fork() was called. os.fork() is incompatible with multithreaded code, and JAX is multithreaded, so this will likely lead to a deadlock.\n",
            "  self.pid = os.fork()\n"
          ]
        },
        {
          "output_type": "stream",
          "name": "stdout",
          "text": [
            "1/1 [==============================] - 3s 3s/step - loss: 0.1451 - recall_1: 0.0245 - precision_1: 0.2082 - f1-score: 0.0438 - iou_score: 0.0224\n",
            "1/1 [==============================] - 1s 576ms/step - loss: 0.1400 - recall_1: 0.0085 - precision_1: 0.1997 - f1-score: 0.0163 - iou_score: 0.0082\n"
          ]
        }
      ],
      "source": [
        "evaluate_obj.evaluate_models()"
      ]
    },
    {
      "cell_type": "code",
      "execution_count": null,
      "metadata": {
        "colab": {
          "base_uri": "https://localhost:8080/"
        },
        "id": "q95tRBpM8jbP",
        "outputId": "b1784391-c758-49d8-9748-1614b5bddd38"
      },
      "outputs": [
        {
          "output_type": "stream",
          "name": "stdout",
          "text": [
            "1/1 [==============================] - 1s 731ms/step\n",
            "1/1 [==============================] - 0s 34ms/step\n",
            "1/1 [==============================] - 0s 40ms/step\n",
            "1/1 [==============================] - 0s 38ms/step\n",
            "1/1 [==============================] - 0s 45ms/step\n",
            "1/1 [==============================] - 0s 38ms/step\n",
            "1/1 [==============================] - 0s 47ms/step\n",
            "1/1 [==============================] - 0s 26ms/step\n",
            "1/1 [==============================] - 0s 27ms/step\n",
            "1/1 [==============================] - 0s 31ms/step\n",
            "1/1 [==============================] - 0s 24ms/step\n",
            "1/1 [==============================] - 0s 25ms/step\n",
            "1/1 [==============================] - 0s 24ms/step\n",
            "1/1 [==============================] - 0s 26ms/step\n",
            "1/1 [==============================] - 0s 24ms/step\n",
            "1/1 [==============================] - 0s 30ms/step\n",
            "1/1 [==============================] - 0s 25ms/step\n",
            "1/1 [==============================] - 0s 24ms/step\n",
            "1/1 [==============================] - 0s 24ms/step\n",
            "1/1 [==============================] - 0s 24ms/step\n",
            "1/1 [==============================] - 0s 24ms/step\n",
            "1/1 [==============================] - 0s 24ms/step\n",
            "1/1 [==============================] - 0s 26ms/step\n",
            "1/1 [==============================] - 0s 26ms/step\n",
            "1/1 [==============================] - 3s 3s/step\n",
            "1/1 [==============================] - 0s 23ms/step\n",
            "1/1 [==============================] - 0s 23ms/step\n",
            "1/1 [==============================] - 0s 24ms/step\n"
          ]
        }
      ],
      "source": [
        "test_generator.update_modelName(train_obj.model_name)\n",
        "predict_obj = Predict(test_generator)\n",
        "predict_obj.create_predictions()"
      ]
    },
    {
      "cell_type": "code",
      "execution_count": null,
      "metadata": {
        "id": "EeUl-lZy9dM1"
      },
      "outputs": [],
      "source": []
    }
  ],
  "metadata": {
    "accelerator": "GPU",
    "colab": {
      "gpuType": "T4",
      "provenance": []
    },
    "kernelspec": {
      "display_name": "Python 3",
      "name": "python3"
    },
    "language_info": {
      "name": "python"
    }
  },
  "nbformat": 4,
  "nbformat_minor": 0
}
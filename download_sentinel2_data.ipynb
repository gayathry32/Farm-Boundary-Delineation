{
 "cells": [
  {
   "cell_type": "code",
   "execution_count": null,
   "metadata": {
    "colab": {
     "base_uri": "https://localhost:8080/"
    },
    "executionInfo": {
     "elapsed": 31222,
     "status": "ok",
     "timestamp": 1675179463100,
     "user": {
      "displayName": "Fan Xinyan",
      "userId": "17970603424071756767"
     },
     "user_tz": -60
    },
    "id": "5IYt1OzYr0Ul",
    "outputId": "65c8a10c-4a70-40d4-a75b-ba52f1586178"
   },
   "outputs": [],
   "source": [
    "!earthengine authenticate"
   ]
  },
  {
   "cell_type": "code",
   "execution_count": null,
   "metadata": {
    "executionInfo": {
     "elapsed": 1764,
     "status": "ok",
     "timestamp": 1675179466622,
     "user": {
      "displayName": "Fan Xinyan",
      "userId": "17970603424071756767"
     },
     "user_tz": -60
    },
    "id": "uTouZ3H6rV_Y"
   },
   "outputs": [],
   "source": [
    "import ee\n",
    "ee.Initialize()\n",
    "\n",
    "# Region Bounding Box coordinates\n",
    "## The Netherlands (pretrian area)\n",
    "#geometry = ee.Geometry.Polygon(\n",
    "#    [[[3.31497114423, 50.803721015],\n",
    "#      [3.31497114423,53.5104033474],\n",
    "#      [7.09205325687,50.803721015],\n",
    "#      [7.09205325687, 53.5104033474]]]);\n",
    "      \n",
    "       \n",
    "## Cambodia (study area)\n",
    "geometry = ee.Geometry.Polygon(\n",
    "       [[[105.246277000283385, 11.598431999936906],\n",
    "         [105.246277000283385, 11.880789999658816],\n",
    "         [105.404204999561159, 11.880789999658816],\n",
    "         [105.404204999561159, 11.598431999936906]]]);\n",
    "\n",
    "# Cambodia\n",
    "# geometry = ee.Geometry.Polygon(\n",
    "#        [[[102.334899902000075, 10.394470215000069],\n",
    "#          [102.334899902000075, 14.689270020000070],\n",
    "#          [107.627685547000070, 14.689270020000070],\n",
    "#          [107.627685547000070, 10.394470215000069]]]);\n",
    "\n",
    "# ## Vietnam (study area)\n",
    "# geometry = ee.Geometry.Polygon(\n",
    "#         [[[106.080089902327188, 20.671660052069797],\n",
    "#           [106.080089902327188, 20.904044130432339],\n",
    "#           [106.239391660097112, 20.904044130432339],\n",
    "#           [106.239391660097112, 20.671660052069797]]]);\n",
    "\n",
    "## Vietnam \n",
    "# geometry = ee.Geometry.Polygon(\n",
    "#         [[[109,553157, 8,458751],\n",
    "#           [109,553157, 23,663507],\n",
    "#           [101,593860, 23,663507],\n",
    "#           [101,593860, 8,458751]]]);\n",
    "\n",
    "cloud_th = 40;\n",
    "start_date = '2021-04-01';\n",
    "stop_date = '2021-12-31';\n",
    "bands = ['B2', 'B3', 'B4','B8','SCL'] ;"
   ]
  },
  {
   "cell_type": "code",
   "execution_count": null,
   "metadata": {
    "executionInfo": {
     "elapsed": 239,
     "status": "ok",
     "timestamp": 1675179474052,
     "user": {
      "displayName": "Fan Xinyan",
      "userId": "17970603424071756767"
     },
     "user_tz": -60
    },
    "id": "sAmbCxPdrflg"
   },
   "outputs": [],
   "source": [
    "def maskS2clouds(image): \n",
    "    qa = image.select('SCL');\n",
    "    shadowBitMask = 1 << 3\n",
    "    cloud1BitMask = 1 << 8\n",
    "    cloud2BitMask = 1 << 9\n",
    "    cirrusBitMask = 1 << 10\n",
    "    mask = qa.bitwiseAnd(shadowBitMask).eq(0) and qa.bitwiseAnd(cloud1BitMask).eq(0) and qa.bitwiseAnd(cloud2BitMask).eq(0) and qa.bitwiseAnd(cirrusBitMask).eq(0)\n",
    "           \n",
    "    return image.updateMask(mask)"
   ]
  },
  {
   "cell_type": "code",
   "execution_count": null,
   "metadata": {
    "executionInfo": {
     "elapsed": 233,
     "status": "ok",
     "timestamp": 1675179514138,
     "user": {
      "displayName": "Fan Xinyan",
      "userId": "17970603424071756767"
     },
     "user_tz": -60
    },
    "id": "JZYvoJSNrmHw"
   },
   "outputs": [],
   "source": [
    "# Jan = ee.ImageCollection(\"COPERNICUS/S2_SR\")\\\n",
    "#           .filterDate('2021-01-01','2021-01-31')\\\n",
    "#           .filterMetadata('CLOUD_COVERAGE_ASSESSMENT','less_than',cloud_th)\\\n",
    "#           .select(bands)\\\n",
    "#           .map(maskS2clouds);\n",
    "# Feb = ee.ImageCollection(\"COPERNICUS/S2_SR\")\\\n",
    "#           .filterDate('2021-02-01','2021-02-28')\\\n",
    "#           .filterMetadata('CLOUD_COVERAGE_ASSESSMENT','less_than',cloud_th)\\\n",
    "#           .select(bands)\\\n",
    "#           .map(maskS2clouds);\n",
    "# Mar = ee.ImageCollection(\"COPERNICUS/S2_SR\")\\\n",
    "#           .filterDate('2021-03-01','2021-03-31')\\\n",
    "#           .filterMetadata('CLOUD_COVERAGE_ASSESSMENT','less_than',cloud_th)\\\n",
    "#           .select(bands)\\\n",
    "#           .map(maskS2clouds);\n",
    "Apr = ee.ImageCollection(\"COPERNICUS/S2_SR\")\\\n",
    "          .filterDate('2021-04-01','2021-04-30')\\\n",
    "          .filterMetadata('CLOUD_COVERAGE_ASSESSMENT','less_than',cloud_th)\\\n",
    "          .select(bands)\\\n",
    "          .map(maskS2clouds);\n",
    "# May = ee.ImageCollection(\"COPERNICUS/S2_SR\")\\\n",
    "#           .filterDate('2021-05-01','2021-05-31')\\\n",
    "#           .filterMetadata('CLOUD_COVERAGE_ASSESSMENT','less_than',cloud_th)\\\n",
    "#           .select(bands)\\\n",
    "#           .map(maskS2clouds);\n",
    "# Jun = ee.ImageCollection(\"COPERNICUS/S2_SR\")\\\n",
    "#           .filterDate('2021-06-01','2021-06-30')\\\n",
    "#           .filterMetadata('CLOUD_COVERAGE_ASSESSMENT','less_than',cloud_th)\\\n",
    "#           .select(bands)\\\n",
    "#           .map(maskS2clouds);\n",
    "# Jul = ee.ImageCollection(\"COPERNICUS/S2_SR\")\\\n",
    "#           .filterDate('2021-07-01','2021-07-31')\\\n",
    "#           .filterMetadata('CLOUD_COVERAGE_ASSESSMENT','less_than',cloud_th)\\\n",
    "#           .select(bands)\\\n",
    "#           .map(maskS2clouds);\n",
    "# Aug = ee.ImageCollection(\"COPERNICUS/S2_SR\")\\\n",
    "#           .filterDate('2021-08-01','2021-08-31')\\\n",
    "#           .filterMetadata('CLOUD_COVERAGE_ASSESSMENT','less_than',cloud_th)\\\n",
    "#           .select(bands)\\\n",
    "#           .map(maskS2clouds);\n",
    "# Sep = ee.ImageCollection(\"COPERNICUS/S2_SR\")\\\n",
    "#           .filterDate('2021-09-01','2021-09-30')\\\n",
    "#           .filterMetadata('CLOUD_COVERAGE_ASSESSMENT','less_than',cloud_th)\\\n",
    "#           .select(bands)\\\n",
    "#           .map(maskS2clouds);\n",
    "# Oct = ee.ImageCollection(\"COPERNICUS/S2_SR\")\\\n",
    "#           .filterDate('2021-10-01','2021-10-31')\\\n",
    "#           .filterMetadata('CLOUD_COVERAGE_ASSESSMENT','less_than',cloud_th)\\\n",
    "#           .select(bands)\\\n",
    "#           .map(maskS2clouds);\n",
    "# Nov = ee.ImageCollection(\"COPERNICUS/S2_SR\")\\\n",
    "#           .filterDate('2021-11-01','2021-11-30')\\\n",
    "#           .filterMetadata('CLOUD_COVERAGE_ASSESSMENT','less_than',cloud_th)\\\n",
    "#           .select(bands)\\\n",
    "#           .map(maskS2clouds);\n",
    "# Dec = ee.ImageCollection(\"COPERNICUS/S2_SR\")\\\n",
    "#           .filterDate('2021-12-01','2021-12-31')\\\n",
    "#           .filterMetadata('CLOUD_COVERAGE_ASSESSMENT','less_than',cloud_th)\\\n",
    "#           .select(bands)\\\n",
    "#           .map(maskS2clouds);\n",
    "\n",
    "\n",
    "Jan_S2 = Jan.median().clip(geometry);  \n",
    "Feb_S2 = Feb.median().clip(geometry);  \n",
    "Mar_S2 = Mar.median().clip(geometry);  \n",
    "Apr_S2 = Apr.median().clip(geometry);  \n",
    "May_S2 = May.median().clip(geometry);  \n",
    "Jun_S2 = Jun.median().clip(geometry);  \n",
    "Jul_S2 = Jul.median().clip(geometry);  \n",
    "Aug_S2 = Aug.median().clip(geometry);  \n",
    "Sep_S2 = Sep.median().clip(geometry);  \n",
    "Oct_S2 = Oct.median().clip(geometry);  \n",
    "Nov_S2 = Nov.median().clip(geometry);  \n",
    "Dec_S2 = Dec.median().clip(geometry); \n",
    "collection = ee.ImageCollection([Jan_S2, Feb_S2, Mar_S2, Apr_S2, May_S2, Jun_S2, Jul_S2, Aug_S2,Sep_S2, Oct_S2, Nov_S2, Dec_S2]);\n",
    "\n"
   ]
  },
  {
   "cell_type": "code",
   "execution_count": null,
   "metadata": {
    "colab": {
     "base_uri": "https://localhost:8080/"
    },
    "executionInfo": {
     "elapsed": 6225,
     "status": "ok",
     "timestamp": 1675179522573,
     "user": {
      "displayName": "Fan Xinyan",
      "userId": "17970603424071756767"
     },
     "user_tz": -60
    },
    "id": "ovlY5tHArs1k",
    "outputId": "047290ad-81f3-4439-86d1-eea24bc3597f"
   },
   "outputs": [],
   "source": [
    "!pip install geetools\n",
    "\n",
    "import geetools"
   ]
  },
  {
   "cell_type": "code",
   "execution_count": null,
   "metadata": {
    "executionInfo": {
     "elapsed": 6317,
     "status": "ok",
     "timestamp": 1675179530742,
     "user": {
      "displayName": "Fan Xinyan",
      "userId": "17970603424071756767"
     },
     "user_tz": -60
    },
    "id": "mcF9gIACr4Eu"
   },
   "outputs": [],
   "source": [
    "# ## Export\n",
    "tasks = geetools.batch.Export.imagecollection.toDrive(\n",
    "            collection = collection,\n",
    "            # folder ='S2_Cambodia_Download',\n",
    "            folder ='S2_Netherlands_Download',\n",
    "            region = geometry.getInfo()['coordinates'],\n",
    "            scale = 10,\n",
    "            maxPixels = 5E10\n",
    "        )"
   ]
  }
 ],
 "metadata": {
  "colab": {
   "authorship_tag": "ABX9TyPbGXwtzkUaND0MFKvJNIiL",
   "provenance": []
  },
  "kernelspec": {
   "display_name": "Python 3 (ipykernel)",
   "language": "python",
   "name": "python3"
  },
  "language_info": {
   "codemirror_mode": {
    "name": "ipython",
    "version": 3
   },
   "file_extension": ".py",
   "mimetype": "text/x-python",
   "name": "python",
   "nbconvert_exporter": "python",
   "pygments_lexer": "ipython3",
   "version": "3.10.13"
  }
 },
 "nbformat": 4,
 "nbformat_minor": 4
}
